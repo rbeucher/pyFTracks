{
 "cells": [
  {
   "cell_type": "code",
   "execution_count": 2,
   "metadata": {},
   "outputs": [
    {
     "name": "stderr",
     "output_type": "stream",
     "text": [
      "/usr/local/lib/python3.5/site-packages/pint/quantity.py:1377: UnitStrippedWarning: The unit of the quantity is stripped.\n",
      "  warnings.warn(\"The unit of the quantity is stripped.\", UnitStrippedWarning)\n"
     ]
    }
   ],
   "source": [
    "import pyTracks\n",
    "from pyTracks.thermal_history import WOLF1"
   ]
  },
  {
   "cell_type": "code",
   "execution_count": 4,
   "metadata": {},
   "outputs": [],
   "source": [
    "model = ketcham_model = pyTracks.KetchamModel(WOLF1, initial_track_length=16.0)"
   ]
  },
  {
   "cell_type": "code",
   "execution_count": 5,
   "metadata": {},
   "outputs": [
    {
     "data": {
      "text/html": [
       "\\[\\begin{pmatrix}0.0 & 43.0 & 44.0 & 100.0\\end{pmatrix} megayear\\]"
      ],
      "text/latex": [
       "$\\begin{pmatrix}0.0 & 43.0 & 44.0 & 100.0\\end{pmatrix}\\ \\mathrm{megayear}$"
      ],
      "text/plain": [
       "array([  0.,  43.,  44., 100.]) <Unit('megayear')>"
      ]
     },
     "execution_count": 5,
     "metadata": {},
     "output_type": "execute_result"
    }
   ],
   "source": [
    "model.history.input_time"
   ]
  },
  {
   "cell_type": "code",
   "execution_count": 6,
   "metadata": {},
   "outputs": [
    {
     "data": {
      "text/html": [
       "\\[\\begin{pmatrix}10.0 & 10.0 & 130.0 & 130.0\\end{pmatrix} degC\\]"
      ],
      "text/latex": [
       "$\\begin{pmatrix}10.0 & 10.0 & 130.0 & 130.0\\end{pmatrix}\\ \\mathrm{degC}$"
      ],
      "text/plain": [
       "array([ 10.,  10., 130., 130.]) <Unit('degC')>"
      ]
     },
     "execution_count": 6,
     "metadata": {},
     "output_type": "execute_result"
    }
   ],
   "source": [
    "model.history.input_temperature"
   ]
  },
  {
   "cell_type": "code",
   "execution_count": 7,
   "metadata": {},
   "outputs": [
    {
     "data": {
      "text/plain": [
       "16.0"
      ]
     },
     "execution_count": 7,
     "metadata": {},
     "output_type": "execute_result"
    }
   ],
   "source": [
    "ketcham_model.get_initial_track_length()"
   ]
  },
  {
   "cell_type": "code",
   "execution_count": 8,
   "metadata": {},
   "outputs": [],
   "source": [
    "ketcham_model = pyTracks.KetchamModel(WOLF1, \n",
    "                                   kinetic_parameter_type=\"ETCH_PIT_LENGTH\",\n",
    "                                   kinetic_parameter_value=2.8,\n",
    "                                   projected_track=False)"
   ]
  },
  {
   "cell_type": "code",
   "execution_count": 9,
   "metadata": {},
   "outputs": [
    {
     "data": {
      "text/plain": [
       "16.4224"
      ]
     },
     "execution_count": 9,
     "metadata": {},
     "output_type": "execute_result"
    }
   ],
   "source": [
    "ketcham_model.get_initial_track_length()"
   ]
  },
  {
   "cell_type": "code",
   "execution_count": 10,
   "metadata": {},
   "outputs": [],
   "source": [
    "ketcham_model = pyTracks.KetchamModel(WOLF1, \n",
    "                                   kinetic_parameter_type=\"ETCH_PIT_LENGTH\",\n",
    "                                   kinetic_parameter_value=1.65,\n",
    "                                   projected_track=True)"
   ]
  },
  {
   "cell_type": "code",
   "execution_count": 11,
   "metadata": {},
   "outputs": [
    {
     "data": {
      "text/plain": [
       "16.43825"
      ]
     },
     "execution_count": 11,
     "metadata": {},
     "output_type": "execute_result"
    }
   ],
   "source": [
    "ketcham_model.get_initial_track_length()"
   ]
  },
  {
   "cell_type": "code",
   "execution_count": 12,
   "metadata": {},
   "outputs": [],
   "source": [
    "A = ketcham_model.calculate_track_lengths()"
   ]
  },
  {
   "cell_type": "code",
   "execution_count": 13,
   "metadata": {},
   "outputs": [
    {
     "data": {
      "text/plain": [
       "(array([ 9.99675329e-001,  9.99675329e-001,  9.99675329e-001,\n",
       "         9.99675329e-001,  9.99675329e-001,  9.99675329e-001,\n",
       "         9.99675329e-001,  9.99675329e-001,  9.99675329e-001,\n",
       "         9.99675329e-001,  9.99675329e-001,  9.99689135e-001,\n",
       "         9.99710902e-001,  9.99710902e-001,  9.99710902e-001,\n",
       "         9.99710902e-001,  9.99710902e-001,  9.99710902e-001,\n",
       "         9.99710902e-001,  9.99710902e-001,  9.99710902e-001,\n",
       "         9.99710902e-001,  9.99710902e-001,  9.99710902e-001,\n",
       "         9.99710902e-001,  9.99710902e-001,  9.99710902e-001,\n",
       "         9.99675329e-001,  9.99675329e-001,  9.99675329e-001,\n",
       "         9.99675329e-001,  9.99675329e-001,  9.99675329e-001,\n",
       "         9.99675329e-001,  9.99675329e-001,  9.99679784e-001,\n",
       "         0.00000000e+000,  0.00000000e+000,  0.00000000e+000,\n",
       "         0.00000000e+000,  0.00000000e+000,  0.00000000e+000,\n",
       "         0.00000000e+000, -9.35198171e+041,  6.90336920e-310,\n",
       "         6.90336141e-310, -7.51148934e-075,  6.90336923e-310,\n",
       "         6.90336141e-310,  0.00000000e+000,  0.00000000e+000,\n",
       "         0.00000000e+000,  0.00000000e+000,  0.00000000e+000,\n",
       "         0.00000000e+000,  0.00000000e+000,  0.00000000e+000,\n",
       "         0.00000000e+000,  2.37151510e-321,  1.18575755e-321,\n",
       "         0.00000000e+000,  3.95252517e-323,  6.90336994e-310,\n",
       "         1.48219694e-323,  0.00000000e+000,  0.00000000e+000,\n",
       "         0.00000000e+000,  0.00000000e+000,  0.00000000e+000,\n",
       "         0.00000000e+000,  6.90337015e-310,  0.00000000e+000,\n",
       "         0.00000000e+000, -9.35198171e+041,  6.90336920e-310,\n",
       "         6.90336141e-310, -7.51148934e-075,  6.90336923e-310,\n",
       "         6.90336141e-310,  6.90337015e-310,  0.00000000e+000,\n",
       "         0.00000000e+000,  6.90337015e-310,  0.00000000e+000,\n",
       "         0.00000000e+000,  6.90337015e-310,  0.00000000e+000,\n",
       "         0.00000000e+000,  6.90337015e-310,  1.19069821e-321,\n",
       "         4.64759913e-310,  6.90336943e-310,  6.90336994e-310,\n",
       "         1.48219694e-323,  0.00000000e+000,  0.00000000e+000,\n",
       "         0.00000000e+000,  6.90337015e-310,  0.00000000e+000,\n",
       "         0.00000000e+000,  6.90337015e-310,  0.00000000e+000,\n",
       "         0.00000000e+000, -9.35198171e+041,  6.90336920e-310,\n",
       "         6.90336141e-310, -7.51148934e-075,  6.90336923e-310,\n",
       "         6.90336141e-310,  6.90337015e-310,  0.00000000e+000,\n",
       "         0.00000000e+000,  6.90337015e-310,  0.00000000e+000,\n",
       "         0.00000000e+000,  6.90337015e-310,  0.00000000e+000,\n",
       "         0.00000000e+000,  4.74303020e-321,  1.18575755e-321,\n",
       "         0.00000000e+000,  3.95252517e-323,  6.90336994e-310,\n",
       "         1.48219694e-323,  0.00000000e+000,  0.00000000e+000,\n",
       "         0.00000000e+000,  6.90337015e-310,  0.00000000e+000,\n",
       "         0.00000000e+000,  1.01975149e-320,  0.00000000e+000,\n",
       "         0.00000000e+000, -9.35198171e+041,  6.90336920e-310,\n",
       "         6.90336141e-310, -7.51148934e-075,  6.90336923e-310,\n",
       "         6.90336141e-310,  6.90337015e-310,  0.00000000e+000,\n",
       "         0.00000000e+000,  6.90337015e-310,  0.00000000e+000,\n",
       "         0.00000000e+000,  6.90337015e-310,  0.00000000e+000,\n",
       "         0.00000000e+000,  5.92878775e-321,  1.18575755e-321,\n",
       "         0.00000000e+000,  3.95252517e-323,  6.90336994e-310,\n",
       "         4.94065646e-324,  0.00000000e+000,  0.00000000e+000,\n",
       "         0.00000000e+000,  3.18689935e+193,  6.90335961e-310,\n",
       "         6.90332665e-310, -9.32265324e+173,  6.90334797e-310,\n",
       "         6.90332662e-310,  6.90337015e-310,  0.00000000e+000,\n",
       "         0.00000000e+000,  4.65281246e-077,  6.90335961e-310,\n",
       "         6.90335961e-310, -2.29914792e+166,  6.90334797e-310,\n",
       "         6.90332662e-310,  6.90337015e-310,  0.00000000e+000,\n",
       "         0.00000000e+000,  6.90337015e-310,  0.00000000e+000,\n",
       "         0.00000000e+000,  6.90337015e-310,  6.16361715e-319,\n",
       "         4.94065646e-324,  6.90337015e-310,  6.90335963e-310,\n",
       "         6.90337015e-310,  0.00000000e+000,  0.00000000e+000,\n",
       "         0.00000000e+000,  6.16045513e-319,  0.00000000e+000,\n",
       "         0.00000000e+000,  0.00000000e+000,  0.00000000e+000,\n",
       "         0.00000000e+000,  0.00000000e+000,  0.00000000e+000,\n",
       "         0.00000000e+000,  0.00000000e+000,  0.00000000e+000,\n",
       "         0.00000000e+000,  0.00000000e+000]),\n",
       " array([0., 0., 0., 0., 0., 0., 0., 0., 0., 0., 0., 0., 0., 0., 0., 0., 0.,\n",
       "        0., 0., 0., 0., 0., 0., 0., 0., 0., 0., 0., 0., 0., 0., 0., 0., 0.,\n",
       "        0., 0., 0., 0., 0., 0., 0., 0., 0., 0., 0., 0., 0., 0., 0., 0., 0.,\n",
       "        0., 0., 0., 0., 0., 0., 0., 0., 0., 0., 0., 0., 0., 0., 0., 0., 0.,\n",
       "        0., 0., 0., 0., 0., 0., 0., 0., 0., 0., 0., 0., 0., 0., 0., 0., 0.,\n",
       "        0., 0., 0., 0., 0., 0., 0., 0., 0., 0., 0., 0., 0., 0., 0., 0., 0.,\n",
       "        0., 0., 0., 0., 0., 0., 0., 0., 0., 0., 0., 0., 0., 0., 0., 0., 0.,\n",
       "        0., 0., 0., 0., 0., 0., 0., 0., 0., 0., 0., 0., 0., 0., 0., 0., 0.,\n",
       "        0., 0., 0., 0., 0., 0., 0., 0., 0., 0., 0., 0., 0., 0., 0., 0., 0.,\n",
       "        0., 0., 0., 0., 0., 0., 0., 0., 0., 0., 0., 0., 0., 0., 0., 0., 0.,\n",
       "        0., 0., 0., 0., 0., 0., 0., 0., 0., 0., 0., 0., 0., 0., 0., 0., 0.,\n",
       "        0., 0., 0., 0., 0., 0., 0., 0., 0., 0., 0., 0., 0.]))"
      ]
     },
     "execution_count": 13,
     "metadata": {},
     "output_type": "execute_result"
    }
   ],
   "source": [
    "A"
   ]
  },
  {
   "cell_type": "code",
   "execution_count": null,
   "metadata": {},
   "outputs": [],
   "source": []
  },
  {
   "cell_type": "code",
   "execution_count": null,
   "metadata": {},
   "outputs": [],
   "source": []
  }
 ],
 "metadata": {
  "kernelspec": {
   "display_name": "Python 3",
   "language": "python",
   "name": "python3"
  },
  "language_info": {
   "codemirror_mode": {
    "name": "ipython",
    "version": 3
   },
   "file_extension": ".py",
   "mimetype": "text/x-python",
   "name": "python",
   "nbconvert_exporter": "python",
   "pygments_lexer": "ipython3",
   "version": "3.5.7"
  }
 },
 "nbformat": 4,
 "nbformat_minor": 2
}
