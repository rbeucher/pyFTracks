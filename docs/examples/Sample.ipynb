{
 "cells": [
  {
   "cell_type": "markdown",
   "metadata": {},
   "source": [
    "# The Sample object / class"
   ]
  },
  {
   "cell_type": "code",
   "execution_count": 1,
   "metadata": {},
   "outputs": [],
   "source": [
    "from pyFTracks import Sample"
   ]
  },
  {
   "cell_type": "code",
   "execution_count": 2,
   "metadata": {},
   "outputs": [],
   "source": [
    "sample1 = Sample()"
   ]
  },
  {
   "cell_type": "code",
   "execution_count": 3,
   "metadata": {},
   "outputs": [
    {
     "data": {
      "text/html": [
       "<table><tr><td>Name</td><td>None</td></tr><tr><td>Number</td><td>0</td></tr><tr><td>Depth</td><td>None</td></tr><tr><td>Elevation</td><td>None</td></tr><tr><td>Stratigraphic Age Range Upper/Lower</td><td>None</td></tr><tr><td>Stratigraphic Age Name</td><td>None</td></tr><tr><td>Deposition Temperature</td><td>None</td></tr><tr><td>Present Day Temperature</td><td>None</td></tr><tr><td>Description</td><td></td></tr></table>"
      ],
      "text/plain": [
       "<pyFTracks.sample.Sample at 0x7f2a34602790>"
      ]
     },
     "execution_count": 3,
     "metadata": {},
     "output_type": "execute_result"
    }
   ],
   "source": [
    "sample1"
   ]
  },
  {
   "cell_type": "code",
   "execution_count": 7,
   "metadata": {},
   "outputs": [],
   "source": [
    "sample1.name = \"My sample\"\n",
    "sample1.depth = 1000"
   ]
  },
  {
   "cell_type": "code",
   "execution_count": 8,
   "metadata": {},
   "outputs": [
    {
     "data": {
      "text/html": [
       "<table><tr><td>Name</td><td>My sample</td></tr><tr><td>Number</td><td>0</td></tr><tr><td>Depth</td><td>1000</td></tr><tr><td>Elevation</td><td>None</td></tr><tr><td>Stratigraphic Age Range Upper/Lower</td><td>None</td></tr><tr><td>Stratigraphic Age Name</td><td>None</td></tr><tr><td>Deposition Temperature</td><td>None</td></tr><tr><td>Present Day Temperature</td><td>None</td></tr><tr><td>Description</td><td></td></tr></table>"
      ],
      "text/plain": [
       "<pyFTracks.sample.Sample at 0x7f2a34602790>"
      ]
     },
     "execution_count": 8,
     "metadata": {},
     "output_type": "execute_result"
    }
   ],
   "source": [
    "sample1"
   ]
  }
 ],
 "metadata": {
  "kernelspec": {
   "display_name": "Python 3",
   "language": "python",
   "name": "python3"
  },
  "language_info": {
   "codemirror_mode": {
    "name": "ipython",
    "version": 3
   },
   "file_extension": ".py",
   "mimetype": "text/x-python",
   "name": "python",
   "nbconvert_exporter": "python",
   "pygments_lexer": "ipython3",
   "version": "3.7.4"
  }
 },
 "nbformat": 4,
 "nbformat_minor": 2
}
