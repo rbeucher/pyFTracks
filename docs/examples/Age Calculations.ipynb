{
 "cells": [
  {
   "cell_type": "code",
   "execution_count": 2,
   "metadata": {},
   "outputs": [],
   "source": [
    "from pyFTracks.ressources import Miller"
   ]
  },
  {
   "cell_type": "code",
   "execution_count": 3,
   "metadata": {},
   "outputs": [
    {
     "data": {
      "text/html": [
       "<div>\n",
       "<style scoped>\n",
       "    .dataframe tbody tr th:only-of-type {\n",
       "        vertical-align: middle;\n",
       "    }\n",
       "\n",
       "    .dataframe tbody tr th {\n",
       "        vertical-align: top;\n",
       "    }\n",
       "\n",
       "    .dataframe thead th {\n",
       "        text-align: right;\n",
       "    }\n",
       "</style>\n",
       "<table border=\"1\" class=\"dataframe\">\n",
       "  <thead>\n",
       "    <tr style=\"text-align: right;\">\n",
       "      <th></th>\n",
       "      <th>Ns</th>\n",
       "      <th>Ni</th>\n",
       "      <th>A</th>\n",
       "      <th>Ns/Ni</th>\n",
       "      <th>RhoS</th>\n",
       "      <th>RhoI</th>\n",
       "      <th>Ages</th>\n",
       "      <th>Ages Errors</th>\n",
       "    </tr>\n",
       "  </thead>\n",
       "  <tbody>\n",
       "    <tr>\n",
       "      <th>0</th>\n",
       "      <td>31</td>\n",
       "      <td>41</td>\n",
       "      <td>40</td>\n",
       "      <td>0.756098</td>\n",
       "      <td>0.861111</td>\n",
       "      <td>1.138889</td>\n",
       "      <td>170.272777</td>\n",
       "      <td>40.938206</td>\n",
       "    </tr>\n",
       "    <tr>\n",
       "      <th>1</th>\n",
       "      <td>19</td>\n",
       "      <td>22</td>\n",
       "      <td>20</td>\n",
       "      <td>0.863636</td>\n",
       "      <td>1.055556</td>\n",
       "      <td>1.222222</td>\n",
       "      <td>194.129222</td>\n",
       "      <td>61.156267</td>\n",
       "    </tr>\n",
       "    <tr>\n",
       "      <th>2</th>\n",
       "      <td>56</td>\n",
       "      <td>63</td>\n",
       "      <td>60</td>\n",
       "      <td>0.888889</td>\n",
       "      <td>1.037037</td>\n",
       "      <td>1.166667</td>\n",
       "      <td>199.718474</td>\n",
       "      <td>37.303586</td>\n",
       "    </tr>\n",
       "    <tr>\n",
       "      <th>3</th>\n",
       "      <td>67</td>\n",
       "      <td>71</td>\n",
       "      <td>80</td>\n",
       "      <td>0.943662</td>\n",
       "      <td>0.930556</td>\n",
       "      <td>0.986111</td>\n",
       "      <td>211.825011</td>\n",
       "      <td>36.791026</td>\n",
       "    </tr>\n",
       "    <tr>\n",
       "      <th>4</th>\n",
       "      <td>88</td>\n",
       "      <td>90</td>\n",
       "      <td>90</td>\n",
       "      <td>0.977778</td>\n",
       "      <td>1.086420</td>\n",
       "      <td>1.111111</td>\n",
       "      <td>219.354179</td>\n",
       "      <td>33.720434</td>\n",
       "    </tr>\n",
       "    <tr>\n",
       "      <th>5</th>\n",
       "      <td>6</td>\n",
       "      <td>7</td>\n",
       "      <td>15</td>\n",
       "      <td>0.857143</td>\n",
       "      <td>0.444444</td>\n",
       "      <td>0.518519</td>\n",
       "      <td>192.691202</td>\n",
       "      <td>107.403652</td>\n",
       "    </tr>\n",
       "    <tr>\n",
       "      <th>6</th>\n",
       "      <td>18</td>\n",
       "      <td>14</td>\n",
       "      <td>20</td>\n",
       "      <td>1.285714</td>\n",
       "      <td>1.000000</td>\n",
       "      <td>0.777778</td>\n",
       "      <td>286.919063</td>\n",
       "      <td>102.707829</td>\n",
       "    </tr>\n",
       "    <tr>\n",
       "      <th>7</th>\n",
       "      <td>40</td>\n",
       "      <td>41</td>\n",
       "      <td>40</td>\n",
       "      <td>0.975610</td>\n",
       "      <td>1.111111</td>\n",
       "      <td>1.138889</td>\n",
       "      <td>218.875970</td>\n",
       "      <td>49.209223</td>\n",
       "    </tr>\n",
       "    <tr>\n",
       "      <th>8</th>\n",
       "      <td>36</td>\n",
       "      <td>49</td>\n",
       "      <td>40</td>\n",
       "      <td>0.734694</td>\n",
       "      <td>1.000000</td>\n",
       "      <td>1.361111</td>\n",
       "      <td>165.514024</td>\n",
       "      <td>36.766051</td>\n",
       "    </tr>\n",
       "    <tr>\n",
       "      <th>9</th>\n",
       "      <td>54</td>\n",
       "      <td>79</td>\n",
       "      <td>60</td>\n",
       "      <td>0.683544</td>\n",
       "      <td>1.000000</td>\n",
       "      <td>1.462963</td>\n",
       "      <td>154.127518</td>\n",
       "      <td>27.714542</td>\n",
       "    </tr>\n",
       "    <tr>\n",
       "      <th>10</th>\n",
       "      <td>35</td>\n",
       "      <td>52</td>\n",
       "      <td>40</td>\n",
       "      <td>0.673077</td>\n",
       "      <td>0.972222</td>\n",
       "      <td>1.444444</td>\n",
       "      <td>151.794873</td>\n",
       "      <td>33.587209</td>\n",
       "    </tr>\n",
       "    <tr>\n",
       "      <th>11</th>\n",
       "      <td>52</td>\n",
       "      <td>76</td>\n",
       "      <td>70</td>\n",
       "      <td>0.684211</td>\n",
       "      <td>0.825397</td>\n",
       "      <td>1.206349</td>\n",
       "      <td>154.275956</td>\n",
       "      <td>28.256344</td>\n",
       "    </tr>\n",
       "    <tr>\n",
       "      <th>12</th>\n",
       "      <td>51</td>\n",
       "      <td>74</td>\n",
       "      <td>49</td>\n",
       "      <td>0.689189</td>\n",
       "      <td>1.156463</td>\n",
       "      <td>1.678005</td>\n",
       "      <td>155.385125</td>\n",
       "      <td>28.768616</td>\n",
       "    </tr>\n",
       "    <tr>\n",
       "      <th>13</th>\n",
       "      <td>47</td>\n",
       "      <td>66</td>\n",
       "      <td>50</td>\n",
       "      <td>0.712121</td>\n",
       "      <td>1.044444</td>\n",
       "      <td>1.466667</td>\n",
       "      <td>160.491558</td>\n",
       "      <td>31.114275</td>\n",
       "    </tr>\n",
       "    <tr>\n",
       "      <th>14</th>\n",
       "      <td>27</td>\n",
       "      <td>39</td>\n",
       "      <td>36</td>\n",
       "      <td>0.692308</td>\n",
       "      <td>0.833333</td>\n",
       "      <td>1.203704</td>\n",
       "      <td>156.079781</td>\n",
       "      <td>39.434473</td>\n",
       "    </tr>\n",
       "    <tr>\n",
       "      <th>15</th>\n",
       "      <td>36</td>\n",
       "      <td>44</td>\n",
       "      <td>40</td>\n",
       "      <td>0.818182</td>\n",
       "      <td>1.000000</td>\n",
       "      <td>1.222222</td>\n",
       "      <td>184.056340</td>\n",
       "      <td>41.834664</td>\n",
       "    </tr>\n",
       "    <tr>\n",
       "      <th>16</th>\n",
       "      <td>64</td>\n",
       "      <td>86</td>\n",
       "      <td>50</td>\n",
       "      <td>0.744186</td>\n",
       "      <td>1.422222</td>\n",
       "      <td>1.911111</td>\n",
       "      <td>167.624884</td>\n",
       "      <td>28.253537</td>\n",
       "    </tr>\n",
       "    <tr>\n",
       "      <th>17</th>\n",
       "      <td>68</td>\n",
       "      <td>90</td>\n",
       "      <td>50</td>\n",
       "      <td>0.755556</td>\n",
       "      <td>1.511111</td>\n",
       "      <td>2.000000</td>\n",
       "      <td>170.152315</td>\n",
       "      <td>27.945372</td>\n",
       "    </tr>\n",
       "    <tr>\n",
       "      <th>18</th>\n",
       "      <td>61</td>\n",
       "      <td>91</td>\n",
       "      <td>60</td>\n",
       "      <td>0.670330</td>\n",
       "      <td>1.129630</td>\n",
       "      <td>1.685185</td>\n",
       "      <td>151.182510</td>\n",
       "      <td>25.540172</td>\n",
       "    </tr>\n",
       "    <tr>\n",
       "      <th>19</th>\n",
       "      <td>30</td>\n",
       "      <td>41</td>\n",
       "      <td>30</td>\n",
       "      <td>0.731707</td>\n",
       "      <td>1.111111</td>\n",
       "      <td>1.518519</td>\n",
       "      <td>164.849733</td>\n",
       "      <td>40.001291</td>\n",
       "    </tr>\n",
       "  </tbody>\n",
       "</table>\n",
       "</div>"
      ],
      "text/plain": [
       "    Ns  Ni   A     Ns/Ni      RhoS      RhoI        Ages  Ages Errors\n",
       "0   31  41  40  0.756098  0.861111  1.138889  170.272777    40.938206\n",
       "1   19  22  20  0.863636  1.055556  1.222222  194.129222    61.156267\n",
       "2   56  63  60  0.888889  1.037037  1.166667  199.718474    37.303586\n",
       "3   67  71  80  0.943662  0.930556  0.986111  211.825011    36.791026\n",
       "4   88  90  90  0.977778  1.086420  1.111111  219.354179    33.720434\n",
       "5    6   7  15  0.857143  0.444444  0.518519  192.691202   107.403652\n",
       "6   18  14  20  1.285714  1.000000  0.777778  286.919063   102.707829\n",
       "7   40  41  40  0.975610  1.111111  1.138889  218.875970    49.209223\n",
       "8   36  49  40  0.734694  1.000000  1.361111  165.514024    36.766051\n",
       "9   54  79  60  0.683544  1.000000  1.462963  154.127518    27.714542\n",
       "10  35  52  40  0.673077  0.972222  1.444444  151.794873    33.587209\n",
       "11  52  76  70  0.684211  0.825397  1.206349  154.275956    28.256344\n",
       "12  51  74  49  0.689189  1.156463  1.678005  155.385125    28.768616\n",
       "13  47  66  50  0.712121  1.044444  1.466667  160.491558    31.114275\n",
       "14  27  39  36  0.692308  0.833333  1.203704  156.079781    39.434473\n",
       "15  36  44  40  0.818182  1.000000  1.222222  184.056340    41.834664\n",
       "16  64  86  50  0.744186  1.422222  1.911111  167.624884    28.253537\n",
       "17  68  90  50  0.755556  1.511111  2.000000  170.152315    27.945372\n",
       "18  61  91  60  0.670330  1.129630  1.685185  151.182510    25.540172\n",
       "19  30  41  30  0.731707  1.111111  1.518519  164.849733    40.001291"
      ]
     },
     "execution_count": 3,
     "metadata": {},
     "output_type": "execute_result"
    }
   ],
   "source": [
    "Miller"
   ]
  },
  {
   "cell_type": "code",
   "execution_count": 6,
   "metadata": {},
   "outputs": [],
   "source": [
    "Ns = Miller[\"Ns\"]\n",
    "Ni = Miller[\"Ni\"]\n",
    "\n",
    "zeta = 350.\n",
    "zeta_err = 10. / 350.\n",
    "\n",
    "rhod = 1.304\n",
    "rhod_err = 0\n",
    "Nd = 2936"
   ]
  },
  {
   "cell_type": "code",
   "execution_count": 7,
   "metadata": {},
   "outputs": [],
   "source": [
    "from pyFTracks.age_calculations import calculate_central_age\n",
    "from pyFTracks.age_calculations import calculate_pooled_age\n",
    "from pyFTracks.age_calculations import calculate_ages"
   ]
  },
  {
   "cell_type": "code",
   "execution_count": 8,
   "metadata": {},
   "outputs": [
    {
     "data": {
      "text/plain": [
       "{'Central': 175.5672998835018,\n",
       " 'se': 8.510137020148957,\n",
       " 'sigma': 5.1978616298287776e-05}"
      ]
     },
     "execution_count": 8,
     "metadata": {},
     "output_type": "execute_result"
    }
   ],
   "source": [
    "calculate_central_age(Ns, Ni, zeta, zeta_err, rhod, Nd)"
   ]
  },
  {
   "cell_type": "code",
   "execution_count": 9,
   "metadata": {},
   "outputs": [
    {
     "data": {
      "text/plain": [
       "{'Pooled Age': 175.56729987574315, 'se': 9.878490119317705}"
      ]
     },
     "execution_count": 9,
     "metadata": {},
     "output_type": "execute_result"
    }
   ],
   "source": [
    "calculate_pooled_age(Ns, Ni, zeta, zeta_err, rhod, Nd)"
   ]
  },
  {
   "cell_type": "code",
   "execution_count": 10,
   "metadata": {},
   "outputs": [
    {
     "data": {
      "text/plain": [
       "{'Age(s)': array([170.27277726, 194.12922188, 199.71847392, 211.82501094,\n",
       "        219.35417906, 192.69120201, 286.91906312, 218.87597033,\n",
       "        165.51402406, 154.12751783, 151.7948727 , 154.27595627,\n",
       "        155.38512454, 160.49155828, 156.07978109, 184.05633985,\n",
       "        167.62488355, 170.15231471, 151.18251036, 164.84973261]),\n",
       " 'se(s)': array([ 40.93820562,  61.15626671,  37.30358567,  36.79102639,\n",
       "         33.72043367, 107.40365187, 102.70782874,  49.20922289,\n",
       "         36.7660512 ,  27.71454167,  33.5872093 ,  28.25634367,\n",
       "         28.7686159 ,  31.11427488,  39.43447289,  41.83466447,\n",
       "         28.25353735,  27.94537164,  25.54017193,  40.0012906 ])}"
      ]
     },
     "execution_count": 10,
     "metadata": {},
     "output_type": "execute_result"
    }
   ],
   "source": [
    "calculate_ages(Ns, Ni, zeta, zeta_err, rhod, Nd)"
   ]
  },
  {
   "cell_type": "code",
   "execution_count": 11,
   "metadata": {},
   "outputs": [],
   "source": [
    "from pyFTracks.ressources import Gleadow"
   ]
  },
  {
   "cell_type": "code",
   "execution_count": 12,
   "metadata": {},
   "outputs": [],
   "source": [
    "Ns = Gleadow[\"Ns\"]\n",
    "Ni = Gleadow[\"Ni\"]\n",
    "zeta = 380.\n",
    "zeta_err = 5. / 380.\n",
    "\n",
    "rhod = 1.257\n",
    "rhod_err = 0\n",
    "Nd = 8188"
   ]
  },
  {
   "cell_type": "code",
   "execution_count": 13,
   "metadata": {},
   "outputs": [
    {
     "data": {
      "text/plain": [
       "{'Central': 94.09935886162337,\n",
       " 'se': 10.157833459811043,\n",
       " 'sigma': 0.446112700671759}"
      ]
     },
     "execution_count": 13,
     "metadata": {},
     "output_type": "execute_result"
    }
   ],
   "source": [
    "calculate_central_age(Ns, Ni, zeta, zeta_err, rhod, Nd)"
   ]
  },
  {
   "cell_type": "code",
   "execution_count": 14,
   "metadata": {},
   "outputs": [
    {
     "data": {
      "text/plain": [
       "{'Pooled Age': 124.98724612328856, 'se': 6.0944585636007576}"
      ]
     },
     "execution_count": 14,
     "metadata": {},
     "output_type": "execute_result"
    }
   ],
   "source": [
    "calculate_pooled_age(Ns, Ni, zeta, zeta_err, rhod, Nd)"
   ]
  },
  {
   "cell_type": "code",
   "execution_count": 15,
   "metadata": {},
   "outputs": [
    {
     "data": {
      "text/plain": [
       "{'Age(s)': array([  0.        ,  43.27803705, 151.73374642, 118.32243524,\n",
       "         30.54674248,  32.48573611, 118.32243524,  83.2599968 ,\n",
       "         95.56075553,  67.87851655,  26.482197  ,  88.94480733,\n",
       "        272.08754802,  92.0203823 ,  64.80858573, 138.97927265,\n",
       "         94.83105306,  72.28064785,  23.8388675 ,  77.29336818,\n",
       "         80.90943697, 132.37628366,  67.87851655,  75.70245065,\n",
       "        130.43964242, 157.28550116,  59.43268641, 157.28550116,\n",
       "        139.60420528, 140.85095558]),\n",
       " 'se(s)': array([  0.        ,  33.27640223,  45.91421583, 102.49040302,\n",
       "         10.27369072,  20.00137932,  72.48591729,  21.68585213,\n",
       "         15.78285539,  54.43638673,  27.91839535,  42.6065056 ,\n",
       "         25.44704475,  15.11733177,  42.22704272,  55.43841021,\n",
       "         79.3580827 ,  31.22579735,  25.00577049,  23.82086375,\n",
       "         24.23088369,  44.2469251 ,  27.23693002,  18.58068178,\n",
       "         40.68337352,  34.92831442,  17.78825114,  82.94078305,\n",
       "         48.89593844,  15.9753248 ])}"
      ]
     },
     "execution_count": 15,
     "metadata": {},
     "output_type": "execute_result"
    }
   ],
   "source": [
    "calculate_ages(Ns, Ni, zeta, zeta_err, rhod, Nd)"
   ]
  }
 ],
 "metadata": {
  "kernelspec": {
   "display_name": "Python 3",
   "language": "python",
   "name": "python3"
  },
  "language_info": {
   "codemirror_mode": {
    "name": "ipython",
    "version": 3
   },
   "file_extension": ".py",
   "mimetype": "text/x-python",
   "name": "python",
   "nbconvert_exporter": "python",
   "pygments_lexer": "ipython3",
   "version": "3.8.3"
  }
 },
 "nbformat": 4,
 "nbformat_minor": 4
}
