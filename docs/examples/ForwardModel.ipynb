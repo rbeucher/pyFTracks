{
 "cells": [
  {
   "cell_type": "code",
   "execution_count": 1,
   "metadata": {},
   "outputs": [
    {
     "name": "stderr",
     "output_type": "stream",
     "text": [
      "/usr/local/lib/python3.5/site-packages/pint/quantity.py:1377: UnitStrippedWarning: The unit of the quantity is stripped.\n",
      "  warnings.warn(\"The unit of the quantity is stripped.\", UnitStrippedWarning)\n"
     ]
    }
   ],
   "source": [
    "import pyFTracks\n",
    "from pyFTracks.thermal_history import WOLF5"
   ]
  },
  {
   "cell_type": "code",
   "execution_count": 2,
   "metadata": {},
   "outputs": [],
   "source": [
    "model = pyFTracks.KetchamModel(WOLF5, \n",
    "                              initial_track_length=16.3,\n",
    "                              kinetic_parameter_type=\"ETCH_PIT_LENGTH\",\n",
    "                              kinetic_parameter_value=1.65\n",
    "                             )"
   ]
  },
  {
   "cell_type": "code",
   "execution_count": 3,
   "metadata": {},
   "outputs": [
    {
     "data": {
      "text/plain": [
       "16.3"
      ]
     },
     "execution_count": 3,
     "metadata": {},
     "output_type": "execute_result"
    }
   ],
   "source": [
    "model.get_initial_track_length()"
   ]
  },
  {
   "cell_type": "code",
   "execution_count": 4,
   "metadata": {},
   "outputs": [],
   "source": [
    "model.solve()"
   ]
  },
  {
   "cell_type": "code",
   "execution_count": 5,
   "metadata": {},
   "outputs": [
    {
     "data": {
      "text/plain": [
       "(array([13.95, 12.15, 12.65, 11.25, 10.75, 11.75, 13.85, 13.95, 12.45,\n",
       "        13.45, 12.75, 13.25, 12.45, 12.65, 13.25, 12.75, 13.45, 12.25,\n",
       "        14.05, 12.85, 11.85, 12.05, 14.05, 12.35, 13.65, 15.15, 12.75,\n",
       "        11.95, 11.95, 11.65, 13.05, 12.85, 11.85, 14.15, 12.45, 12.65,\n",
       "        13.35, 12.15, 12.75, 15.05, 12.95, 14.15, 12.05, 14.35, 12.35,\n",
       "        12.05, 13.85, 12.85, 14.15, 12.85, 12.25, 12.55, 11.55, 13.05,\n",
       "        12.55, 14.55, 11.85, 10.75, 14.25, 12.25, 13.25, 13.55, 12.85,\n",
       "        13.35, 15.35, 12.75, 12.55, 13.05, 12.25, 12.65, 12.45, 13.35,\n",
       "        13.15, 11.75, 11.55, 15.25, 12.85, 12.95, 11.95, 15.15, 11.75,\n",
       "        12.55, 12.35, 14.15, 11.45, 13.75, 13.15, 15.05, 12.35, 14.05,\n",
       "        11.65, 12.75, 12.25, 12.65, 10.15, 11.85, 11.85, 11.45, 11.15,\n",
       "        14.45]), 12.835999999999999, 1.0553691297361316)"
      ]
     },
     "execution_count": 5,
     "metadata": {},
     "output_type": "execute_result"
    }
   ],
   "source": [
    "model.generate_synthetic_lengths(100)"
   ]
  },
  {
   "cell_type": "code",
   "execution_count": 6,
   "metadata": {},
   "outputs": [
    {
     "data": {
      "text/plain": [
       "(array([31, 30, 38, 21, 31, 35, 15,  4, 32, 10, 22, 31, 41, 12, 19, 32, 18,\n",
       "        28, 10, 24, 34, 16,  9,  4, 14, 22, 12, 48, 23, 31]),\n",
       " array([31, 25, 39, 28, 39, 27, 24,  2, 25, 16, 22, 32, 50, 16, 24, 41, 19,\n",
       "        18, 10, 26, 43, 21, 12,  6, 23, 33, 11, 43, 19, 31]))"
      ]
     },
     "execution_count": 6,
     "metadata": {},
     "output_type": "execute_result"
    }
   ],
   "source": [
    "model.generate_synthetic_counts(30)"
   ]
  },
  {
   "cell_type": "code",
   "execution_count": 7,
   "metadata": {},
   "outputs": [
    {
     "data": {
      "text/plain": [
       "86.65787215030876"
      ]
     },
     "execution_count": 7,
     "metadata": {},
     "output_type": "execute_result"
    }
   ],
   "source": [
    "model.ft_model_age"
   ]
  },
  {
   "cell_type": "code",
   "execution_count": 8,
   "metadata": {},
   "outputs": [
    {
     "data": {
      "text/plain": [
       "0.8781203583676527"
      ]
     },
     "execution_count": 8,
     "metadata": {},
     "output_type": "execute_result"
    }
   ],
   "source": [
    "model.reduced_density"
   ]
  }
 ],
 "metadata": {
  "kernelspec": {
   "display_name": "Python 3",
   "language": "python",
   "name": "python3"
  },
  "language_info": {
   "codemirror_mode": {
    "name": "ipython",
    "version": 3
   },
   "file_extension": ".py",
   "mimetype": "text/x-python",
   "name": "python",
   "nbconvert_exporter": "python",
   "pygments_lexer": "ipython3",
   "version": "3.5.7"
  }
 },
 "nbformat": 4,
 "nbformat_minor": 2
}
