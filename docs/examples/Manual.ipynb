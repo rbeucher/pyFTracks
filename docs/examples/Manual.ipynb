{
 "cells": [
  {
   "cell_type": "markdown",
   "metadata": {},
   "source": [
    "# Getting Started with *pyFTracks* v 1.0\n",
    "\n",
    "**Romain Beucher, Roderick Brown, Louis Moresi and Fabian Kohlmann**\n",
    "\n",
    "The Australian National University\n",
    "The University of Glasgow\n",
    "Lithodat\n",
    "\n",
    "*pyFTracks* is a Python package that can be used to predict Fission Track ages and Track lengths distributions for some given thermal-histories and kinetic parameters.\n",
    "\n",
    "*pyFTracks* is an open-source project licensed under the MiT license. See LICENSE.md for details.\n",
    "\n",
    "The functionalities provided are similar to Richard Ketcham HeFTy sofware. \n",
    "The main advantage comes from its Python interface which allows users to easily integrate *pyFTracks* with other Python libraries and existing scientific applications.\n",
    "*pyFTracks* is available on all major operating systems.\n",
    "\n",
    "For now, *pyFTracks* only provide forward modelling functionalities. Integration with inverse problem schemes is planned for version 2.0.\n",
    "\n",
    "\n",
    "# Installation\n",
    "\n",
    "*pyFTracks* is availabe on pypi. The code should work on all major operating systems (Linux, MaxOSx and Windows)\n",
    "\n",
    "`pip install pyFTracks`"
   ]
  },
  {
   "cell_type": "markdown",
   "metadata": {},
   "source": [
    "# Importing *pyFTracks*\n",
    "\n",
    "The recommended way to import pyFTracks is to run:"
   ]
  },
  {
   "cell_type": "code",
   "execution_count": 1,
   "metadata": {},
   "outputs": [
    {
     "name": "stderr",
     "output_type": "stream",
     "text": [
      "/usr/lib/python3.8/site-packages/pint/quantity.py:1377: UnitStrippedWarning: The unit of the quantity is stripped.\n",
      "  warnings.warn(\"The unit of the quantity is stripped.\", UnitStrippedWarning)\n"
     ]
    }
   ],
   "source": [
    "import pyFTracks as FT"
   ]
  },
  {
   "cell_type": "markdown",
   "metadata": {},
   "source": [
    "# Simple Fission-Track data Predictions"
   ]
  },
  {
   "cell_type": "code",
   "execution_count": 2,
   "metadata": {},
   "outputs": [],
   "source": [
    "Ns = [31, 19, 56, 67, 88, 6, 18, 40, 36, 54, 35, 52, 51, 47, 27, 36, 64, 68, 61, 30]\n",
    "Ni = [41, 22, 63, 71, 90, 7, 14, 41, 49, 79, 52, 76, 74, 66, 39, 44, 86, 90, 91, 41]\n",
    "\n",
    "zeta = 350. # megayears * 1e6 * u.cm2\n",
    "zeta_err = 10. / 350.\n",
    "rhod = 1.304 # 1e6 * u.cm**-2\n",
    "rhod_err = 0.\n",
    "Nd = 2936"
   ]
  },
  {
   "cell_type": "code",
   "execution_count": 3,
   "metadata": {},
   "outputs": [
    {
     "data": {
      "text/plain": [
       "{'Central': 175.5672998835018,\n",
       " 'se': 8.510137020148957,\n",
       " 'sigma': 5.1978616298287776e-05}"
      ]
     },
     "execution_count": 3,
     "metadata": {},
     "output_type": "execute_result"
    }
   ],
   "source": [
    "FT.central_age(Ns, Ni, zeta, zeta_err, rhod, Nd)"
   ]
  },
  {
   "cell_type": "code",
   "execution_count": 4,
   "metadata": {},
   "outputs": [
    {
     "data": {
      "text/plain": [
       "{'Pooled Age': 175.56729987574315, 'se': 9.878490119317705}"
      ]
     },
     "execution_count": 4,
     "metadata": {},
     "output_type": "execute_result"
    }
   ],
   "source": [
    "FT.pooled_age(Ns, Ni, zeta, zeta_err, rhod, Nd)"
   ]
  },
  {
   "cell_type": "code",
   "execution_count": 5,
   "metadata": {},
   "outputs": [
    {
     "data": {
      "text/plain": [
       "{'Age(s)': array([170.27277726, 194.12922188, 199.71847392, 211.82501094,\n",
       "        219.35417906, 192.69120201, 286.91906312, 218.87597033,\n",
       "        165.51402406, 154.12751783, 151.7948727 , 154.27595627,\n",
       "        155.38512454, 160.49155828, 156.07978109, 184.05633985,\n",
       "        167.62488355, 170.15231471, 151.18251036, 164.84973261]),\n",
       " 'se(s)': array([ 40.93820562,  61.15626671,  37.30358567,  36.79102639,\n",
       "         33.72043367, 107.40365187, 102.70782874,  49.20922289,\n",
       "         36.7660512 ,  27.71454167,  33.5872093 ,  28.25634367,\n",
       "         28.7686159 ,  31.11427488,  39.43447289,  41.83466447,\n",
       "         28.25353735,  27.94537164,  25.54017193,  40.0012906 ])}"
      ]
     },
     "execution_count": 5,
     "metadata": {},
     "output_type": "execute_result"
    }
   ],
   "source": [
    "FT.single_grain_ages(Ns, Ni, zeta, zeta_err, rhod, Nd)"
   ]
  },
  {
   "cell_type": "code",
   "execution_count": 6,
   "metadata": {},
   "outputs": [
    {
     "data": {
      "text/plain": [
       "0.9292129985459694"
      ]
     },
     "execution_count": 6,
     "metadata": {},
     "output_type": "execute_result"
    }
   ],
   "source": [
    "FT.chi2_test(Ns, Ni)"
   ]
  },
  {
   "cell_type": "markdown",
   "metadata": {},
   "source": [
    "# Included datasets\n",
    "\n",
    "*pyFTracks* comes with some sample datasets that can be used for testing and designing general code."
   ]
  },
  {
   "cell_type": "code",
   "execution_count": 7,
   "metadata": {},
   "outputs": [
    {
     "name": "stdout",
     "output_type": "stream",
     "text": [
      "Index([], dtype='object')\n",
      "Index(['Ns', 'Ni', 'A'], dtype='object')\n",
      "Index([], dtype='object')\n",
      "Index(['Ns', 'Ni', 'A'], dtype='object')\n"
     ]
    }
   ],
   "source": [
    "from pyFTracks.ressources import Gleadow\n",
    "from pyFTracks.ressources import Miller1995"
   ]
  },
  {
   "cell_type": "code",
   "execution_count": 8,
   "metadata": {},
   "outputs": [
    {
     "data": {
      "text/html": [
       "<div>\n",
       "<style scoped>\n",
       "    .dataframe tbody tr th:only-of-type {\n",
       "        vertical-align: middle;\n",
       "    }\n",
       "\n",
       "    .dataframe tbody tr th {\n",
       "        vertical-align: top;\n",
       "    }\n",
       "\n",
       "    .dataframe thead th {\n",
       "        text-align: right;\n",
       "    }\n",
       "</style>\n",
       "<table border=\"1\" class=\"dataframe\">\n",
       "  <thead>\n",
       "    <tr style=\"text-align: right;\">\n",
       "      <th></th>\n",
       "      <th>Ns</th>\n",
       "      <th>Ni</th>\n",
       "      <th>A</th>\n",
       "      <th>Ns/Ni</th>\n",
       "      <th>RhoS</th>\n",
       "      <th>RhoI</th>\n",
       "      <th>Ages</th>\n",
       "      <th>Ages Errors</th>\n",
       "    </tr>\n",
       "  </thead>\n",
       "  <tbody>\n",
       "    <tr>\n",
       "      <th>0</th>\n",
       "      <td>0</td>\n",
       "      <td>11</td>\n",
       "      <td>24</td>\n",
       "      <td>0.000000</td>\n",
       "      <td>0.000000e+00</td>\n",
       "      <td>5.876068e+05</td>\n",
       "      <td>0.000000</td>\n",
       "      <td>0.000000</td>\n",
       "    </tr>\n",
       "    <tr>\n",
       "      <th>1</th>\n",
       "      <td>2</td>\n",
       "      <td>11</td>\n",
       "      <td>44</td>\n",
       "      <td>0.181818</td>\n",
       "      <td>5.827506e+04</td>\n",
       "      <td>3.205128e+05</td>\n",
       "      <td>43.278037</td>\n",
       "      <td>33.277678</td>\n",
       "    </tr>\n",
       "    <tr>\n",
       "      <th>2</th>\n",
       "      <td>18</td>\n",
       "      <td>28</td>\n",
       "      <td>32</td>\n",
       "      <td>0.642857</td>\n",
       "      <td>7.211538e+05</td>\n",
       "      <td>1.121795e+06</td>\n",
       "      <td>151.733746</td>\n",
       "      <td>45.925582</td>\n",
       "    </tr>\n",
       "    <tr>\n",
       "      <th>3</th>\n",
       "      <td>2</td>\n",
       "      <td>4</td>\n",
       "      <td>40</td>\n",
       "      <td>0.500000</td>\n",
       "      <td>6.410256e+04</td>\n",
       "      <td>1.282051e+05</td>\n",
       "      <td>118.322435</td>\n",
       "      <td>102.493500</td>\n",
       "    </tr>\n",
       "    <tr>\n",
       "      <th>4</th>\n",
       "      <td>10</td>\n",
       "      <td>78</td>\n",
       "      <td>90</td>\n",
       "      <td>0.128205</td>\n",
       "      <td>1.424501e+05</td>\n",
       "      <td>1.111111e+06</td>\n",
       "      <td>30.546742</td>\n",
       "      <td>10.275749</td>\n",
       "    </tr>\n",
       "    <tr>\n",
       "      <th>5</th>\n",
       "      <td>3</td>\n",
       "      <td>22</td>\n",
       "      <td>30</td>\n",
       "      <td>0.136364</td>\n",
       "      <td>1.282051e+05</td>\n",
       "      <td>9.401709e+05</td>\n",
       "      <td>32.485736</td>\n",
       "      <td>20.002575</td>\n",
       "    </tr>\n",
       "    <tr>\n",
       "      <th>6</th>\n",
       "      <td>4</td>\n",
       "      <td>8</td>\n",
       "      <td>40</td>\n",
       "      <td>0.500000</td>\n",
       "      <td>1.282051e+05</td>\n",
       "      <td>2.564103e+05</td>\n",
       "      <td>118.322435</td>\n",
       "      <td>72.490296</td>\n",
       "    </tr>\n",
       "    <tr>\n",
       "      <th>7</th>\n",
       "      <td>20</td>\n",
       "      <td>57</td>\n",
       "      <td>50</td>\n",
       "      <td>0.350877</td>\n",
       "      <td>5.128205e+05</td>\n",
       "      <td>1.461538e+06</td>\n",
       "      <td>83.259997</td>\n",
       "      <td>21.693098</td>\n",
       "    </tr>\n",
       "    <tr>\n",
       "      <th>8</th>\n",
       "      <td>52</td>\n",
       "      <td>129</td>\n",
       "      <td>20</td>\n",
       "      <td>0.403101</td>\n",
       "      <td>3.333333e+06</td>\n",
       "      <td>8.269231e+06</td>\n",
       "      <td>95.560756</td>\n",
       "      <td>15.795966</td>\n",
       "    </tr>\n",
       "    <tr>\n",
       "      <th>9</th>\n",
       "      <td>2</td>\n",
       "      <td>7</td>\n",
       "      <td>45</td>\n",
       "      <td>0.285714</td>\n",
       "      <td>5.698006e+04</td>\n",
       "      <td>1.994302e+05</td>\n",
       "      <td>67.878517</td>\n",
       "      <td>54.438305</td>\n",
       "    </tr>\n",
       "    <tr>\n",
       "      <th>10</th>\n",
       "      <td>1</td>\n",
       "      <td>9</td>\n",
       "      <td>35</td>\n",
       "      <td>0.111111</td>\n",
       "      <td>3.663004e+04</td>\n",
       "      <td>3.296703e+05</td>\n",
       "      <td>26.482197</td>\n",
       "      <td>27.918965</td>\n",
       "    </tr>\n",
       "    <tr>\n",
       "      <th>11</th>\n",
       "      <td>6</td>\n",
       "      <td>16</td>\n",
       "      <td>50</td>\n",
       "      <td>0.375000</td>\n",
       "      <td>1.538462e+05</td>\n",
       "      <td>4.102564e+05</td>\n",
       "      <td>88.944807</td>\n",
       "      <td>42.610715</td>\n",
       "    </tr>\n",
       "    <tr>\n",
       "      <th>12</th>\n",
       "      <td>256</td>\n",
       "      <td>220</td>\n",
       "      <td>100</td>\n",
       "      <td>1.163636</td>\n",
       "      <td>3.282051e+06</td>\n",
       "      <td>2.820513e+06</td>\n",
       "      <td>272.087548</td>\n",
       "      <td>25.512911</td>\n",
       "    </tr>\n",
       "    <tr>\n",
       "      <th>13</th>\n",
       "      <td>52</td>\n",
       "      <td>134</td>\n",
       "      <td>24</td>\n",
       "      <td>0.388060</td>\n",
       "      <td>2.777778e+06</td>\n",
       "      <td>7.158120e+06</td>\n",
       "      <td>92.020382</td>\n",
       "      <td>15.130025</td>\n",
       "    </tr>\n",
       "    <tr>\n",
       "      <th>14</th>\n",
       "      <td>3</td>\n",
       "      <td>11</td>\n",
       "      <td>35</td>\n",
       "      <td>0.272727</td>\n",
       "      <td>1.098901e+05</td>\n",
       "      <td>4.029304e+05</td>\n",
       "      <td>64.808586</td>\n",
       "      <td>42.229298</td>\n",
       "    </tr>\n",
       "    <tr>\n",
       "      <th>15</th>\n",
       "      <td>10</td>\n",
       "      <td>17</td>\n",
       "      <td>16</td>\n",
       "      <td>0.588235</td>\n",
       "      <td>8.012821e+05</td>\n",
       "      <td>1.362179e+06</td>\n",
       "      <td>138.979273</td>\n",
       "      <td>55.446308</td>\n",
       "    </tr>\n",
       "    <tr>\n",
       "      <th>16</th>\n",
       "      <td>2</td>\n",
       "      <td>5</td>\n",
       "      <td>12</td>\n",
       "      <td>0.400000</td>\n",
       "      <td>2.136752e+05</td>\n",
       "      <td>5.341880e+05</td>\n",
       "      <td>94.831053</td>\n",
       "      <td>79.360652</td>\n",
       "    </tr>\n",
       "    <tr>\n",
       "      <th>17</th>\n",
       "      <td>7</td>\n",
       "      <td>23</td>\n",
       "      <td>40</td>\n",
       "      <td>0.304348</td>\n",
       "      <td>2.243590e+05</td>\n",
       "      <td>7.371795e+05</td>\n",
       "      <td>72.280648</td>\n",
       "      <td>31.229590</td>\n",
       "    </tr>\n",
       "    <tr>\n",
       "      <th>18</th>\n",
       "      <td>1</td>\n",
       "      <td>10</td>\n",
       "      <td>60</td>\n",
       "      <td>0.100000</td>\n",
       "      <td>2.136752e+04</td>\n",
       "      <td>2.136752e+05</td>\n",
       "      <td>23.838867</td>\n",
       "      <td>25.006286</td>\n",
       "    </tr>\n",
       "    <tr>\n",
       "      <th>19</th>\n",
       "      <td>14</td>\n",
       "      <td>43</td>\n",
       "      <td>24</td>\n",
       "      <td>0.325581</td>\n",
       "      <td>7.478632e+05</td>\n",
       "      <td>2.297009e+06</td>\n",
       "      <td>77.293368</td>\n",
       "      <td>23.826549</td>\n",
       "    </tr>\n",
       "    <tr>\n",
       "      <th>20</th>\n",
       "      <td>15</td>\n",
       "      <td>44</td>\n",
       "      <td>49</td>\n",
       "      <td>0.340909</td>\n",
       "      <td>3.924647e+05</td>\n",
       "      <td>1.151230e+06</td>\n",
       "      <td>80.909437</td>\n",
       "      <td>24.237007</td>\n",
       "    </tr>\n",
       "    <tr>\n",
       "      <th>21</th>\n",
       "      <td>14</td>\n",
       "      <td>25</td>\n",
       "      <td>48</td>\n",
       "      <td>0.560000</td>\n",
       "      <td>3.739316e+05</td>\n",
       "      <td>6.677350e+05</td>\n",
       "      <td>132.376284</td>\n",
       "      <td>44.255902</td>\n",
       "    </tr>\n",
       "    <tr>\n",
       "      <th>22</th>\n",
       "      <td>8</td>\n",
       "      <td>28</td>\n",
       "      <td>32</td>\n",
       "      <td>0.285714</td>\n",
       "      <td>3.205128e+05</td>\n",
       "      <td>1.121795e+06</td>\n",
       "      <td>67.878517</td>\n",
       "      <td>27.240765</td>\n",
       "    </tr>\n",
       "    <tr>\n",
       "      <th>23</th>\n",
       "      <td>22</td>\n",
       "      <td>69</td>\n",
       "      <td>45</td>\n",
       "      <td>0.318841</td>\n",
       "      <td>6.267806e+05</td>\n",
       "      <td>1.965812e+06</td>\n",
       "      <td>75.702451</td>\n",
       "      <td>18.587672</td>\n",
       "    </tr>\n",
       "    <tr>\n",
       "      <th>24</th>\n",
       "      <td>16</td>\n",
       "      <td>29</td>\n",
       "      <td>44</td>\n",
       "      <td>0.551724</td>\n",
       "      <td>4.662005e+05</td>\n",
       "      <td>8.449883e+05</td>\n",
       "      <td>130.439642</td>\n",
       "      <td>40.692853</td>\n",
       "    </tr>\n",
       "    <tr>\n",
       "      <th>25</th>\n",
       "      <td>34</td>\n",
       "      <td>51</td>\n",
       "      <td>35</td>\n",
       "      <td>0.666667</td>\n",
       "      <td>1.245421e+06</td>\n",
       "      <td>1.868132e+06</td>\n",
       "      <td>157.285501</td>\n",
       "      <td>34.944367</td>\n",
       "    </tr>\n",
       "    <tr>\n",
       "      <th>26</th>\n",
       "      <td>14</td>\n",
       "      <td>56</td>\n",
       "      <td>40</td>\n",
       "      <td>0.250000</td>\n",
       "      <td>4.487179e+05</td>\n",
       "      <td>1.794872e+06</td>\n",
       "      <td>59.432686</td>\n",
       "      <td>17.792752</td>\n",
       "    </tr>\n",
       "    <tr>\n",
       "      <th>27</th>\n",
       "      <td>6</td>\n",
       "      <td>9</td>\n",
       "      <td>5</td>\n",
       "      <td>0.666667</td>\n",
       "      <td>1.538462e+06</td>\n",
       "      <td>2.307692e+06</td>\n",
       "      <td>157.285501</td>\n",
       "      <td>82.947544</td>\n",
       "    </tr>\n",
       "    <tr>\n",
       "      <th>28</th>\n",
       "      <td>13</td>\n",
       "      <td>22</td>\n",
       "      <td>32</td>\n",
       "      <td>0.590909</td>\n",
       "      <td>5.208333e+05</td>\n",
       "      <td>8.814103e+05</td>\n",
       "      <td>139.604205</td>\n",
       "      <td>48.904973</td>\n",
       "    </tr>\n",
       "    <tr>\n",
       "      <th>29</th>\n",
       "      <td>127</td>\n",
       "      <td>213</td>\n",
       "      <td>28</td>\n",
       "      <td>0.596244</td>\n",
       "      <td>5.815018e+06</td>\n",
       "      <td>9.752747e+06</td>\n",
       "      <td>140.850956</td>\n",
       "      <td>16.003452</td>\n",
       "    </tr>\n",
       "  </tbody>\n",
       "</table>\n",
       "</div>"
      ],
      "text/plain": [
       "     Ns   Ni    A     Ns/Ni          RhoS          RhoI        Ages  \\\n",
       "0     0   11   24  0.000000  0.000000e+00  5.876068e+05    0.000000   \n",
       "1     2   11   44  0.181818  5.827506e+04  3.205128e+05   43.278037   \n",
       "2    18   28   32  0.642857  7.211538e+05  1.121795e+06  151.733746   \n",
       "3     2    4   40  0.500000  6.410256e+04  1.282051e+05  118.322435   \n",
       "4    10   78   90  0.128205  1.424501e+05  1.111111e+06   30.546742   \n",
       "5     3   22   30  0.136364  1.282051e+05  9.401709e+05   32.485736   \n",
       "6     4    8   40  0.500000  1.282051e+05  2.564103e+05  118.322435   \n",
       "7    20   57   50  0.350877  5.128205e+05  1.461538e+06   83.259997   \n",
       "8    52  129   20  0.403101  3.333333e+06  8.269231e+06   95.560756   \n",
       "9     2    7   45  0.285714  5.698006e+04  1.994302e+05   67.878517   \n",
       "10    1    9   35  0.111111  3.663004e+04  3.296703e+05   26.482197   \n",
       "11    6   16   50  0.375000  1.538462e+05  4.102564e+05   88.944807   \n",
       "12  256  220  100  1.163636  3.282051e+06  2.820513e+06  272.087548   \n",
       "13   52  134   24  0.388060  2.777778e+06  7.158120e+06   92.020382   \n",
       "14    3   11   35  0.272727  1.098901e+05  4.029304e+05   64.808586   \n",
       "15   10   17   16  0.588235  8.012821e+05  1.362179e+06  138.979273   \n",
       "16    2    5   12  0.400000  2.136752e+05  5.341880e+05   94.831053   \n",
       "17    7   23   40  0.304348  2.243590e+05  7.371795e+05   72.280648   \n",
       "18    1   10   60  0.100000  2.136752e+04  2.136752e+05   23.838867   \n",
       "19   14   43   24  0.325581  7.478632e+05  2.297009e+06   77.293368   \n",
       "20   15   44   49  0.340909  3.924647e+05  1.151230e+06   80.909437   \n",
       "21   14   25   48  0.560000  3.739316e+05  6.677350e+05  132.376284   \n",
       "22    8   28   32  0.285714  3.205128e+05  1.121795e+06   67.878517   \n",
       "23   22   69   45  0.318841  6.267806e+05  1.965812e+06   75.702451   \n",
       "24   16   29   44  0.551724  4.662005e+05  8.449883e+05  130.439642   \n",
       "25   34   51   35  0.666667  1.245421e+06  1.868132e+06  157.285501   \n",
       "26   14   56   40  0.250000  4.487179e+05  1.794872e+06   59.432686   \n",
       "27    6    9    5  0.666667  1.538462e+06  2.307692e+06  157.285501   \n",
       "28   13   22   32  0.590909  5.208333e+05  8.814103e+05  139.604205   \n",
       "29  127  213   28  0.596244  5.815018e+06  9.752747e+06  140.850956   \n",
       "\n",
       "    Ages Errors  \n",
       "0      0.000000  \n",
       "1     33.277678  \n",
       "2     45.925582  \n",
       "3    102.493500  \n",
       "4     10.275749  \n",
       "5     20.002575  \n",
       "6     72.490296  \n",
       "7     21.693098  \n",
       "8     15.795966  \n",
       "9     54.438305  \n",
       "10    27.918965  \n",
       "11    42.610715  \n",
       "12    25.512911  \n",
       "13    15.130025  \n",
       "14    42.229298  \n",
       "15    55.446308  \n",
       "16    79.360652  \n",
       "17    31.229590  \n",
       "18    25.006286  \n",
       "19    23.826549  \n",
       "20    24.237007  \n",
       "21    44.255902  \n",
       "22    27.240765  \n",
       "23    18.587672  \n",
       "24    40.692853  \n",
       "25    34.944367  \n",
       "26    17.792752  \n",
       "27    82.947544  \n",
       "28    48.904973  \n",
       "29    16.003452  "
      ]
     },
     "execution_count": 8,
     "metadata": {},
     "output_type": "execute_result"
    }
   ],
   "source": [
    "Gleadow"
   ]
  },
  {
   "cell_type": "code",
   "execution_count": 9,
   "metadata": {},
   "outputs": [
    {
     "data": {
      "text/plain": [
       "{'Central': 94.09935886162337,\n",
       " 'se': 10.252612361117954,\n",
       " 'sigma': 0.446112700671759}"
      ]
     },
     "execution_count": 9,
     "metadata": {},
     "output_type": "execute_result"
    }
   ],
   "source": [
    "FT.central_age(Gleadow.Ns,\n",
    "               Gleadow.Ni,\n",
    "               Gleadow.zeta,\n",
    "               Gleadow.zeta_error,\n",
    "               Gleadow.rhod,\n",
    "               Gleadow.nd)"
   ]
  },
  {
   "cell_type": "code",
   "execution_count": 10,
   "metadata": {},
   "outputs": [
    {
     "data": {
      "text/html": [
       "<div>\n",
       "<style scoped>\n",
       "    .dataframe tbody tr th:only-of-type {\n",
       "        vertical-align: middle;\n",
       "    }\n",
       "\n",
       "    .dataframe tbody tr th {\n",
       "        vertical-align: top;\n",
       "    }\n",
       "\n",
       "    .dataframe thead th {\n",
       "        text-align: right;\n",
       "    }\n",
       "</style>\n",
       "<table border=\"1\" class=\"dataframe\">\n",
       "  <thead>\n",
       "    <tr style=\"text-align: right;\">\n",
       "      <th></th>\n",
       "      <th>Ns</th>\n",
       "      <th>Ni</th>\n",
       "      <th>A</th>\n",
       "      <th>Ns/Ni</th>\n",
       "      <th>RhoS</th>\n",
       "      <th>RhoI</th>\n",
       "      <th>Ages</th>\n",
       "      <th>Ages Errors</th>\n",
       "    </tr>\n",
       "  </thead>\n",
       "  <tbody>\n",
       "    <tr>\n",
       "      <th>0</th>\n",
       "      <td>31</td>\n",
       "      <td>41</td>\n",
       "      <td>40</td>\n",
       "      <td>0.756098</td>\n",
       "      <td>8.602509e+05</td>\n",
       "      <td>1.137751e+06</td>\n",
       "      <td>170.272777</td>\n",
       "      <td>40.938206</td>\n",
       "    </tr>\n",
       "    <tr>\n",
       "      <th>1</th>\n",
       "      <td>19</td>\n",
       "      <td>22</td>\n",
       "      <td>20</td>\n",
       "      <td>0.863636</td>\n",
       "      <td>1.054501e+06</td>\n",
       "      <td>1.221001e+06</td>\n",
       "      <td>194.129222</td>\n",
       "      <td>61.156267</td>\n",
       "    </tr>\n",
       "    <tr>\n",
       "      <th>2</th>\n",
       "      <td>56</td>\n",
       "      <td>63</td>\n",
       "      <td>60</td>\n",
       "      <td>0.888889</td>\n",
       "      <td>1.036001e+06</td>\n",
       "      <td>1.165501e+06</td>\n",
       "      <td>199.718474</td>\n",
       "      <td>37.303586</td>\n",
       "    </tr>\n",
       "    <tr>\n",
       "      <th>3</th>\n",
       "      <td>67</td>\n",
       "      <td>71</td>\n",
       "      <td>80</td>\n",
       "      <td>0.943662</td>\n",
       "      <td>9.296259e+05</td>\n",
       "      <td>9.851260e+05</td>\n",
       "      <td>211.825011</td>\n",
       "      <td>36.791026</td>\n",
       "    </tr>\n",
       "    <tr>\n",
       "      <th>4</th>\n",
       "      <td>88</td>\n",
       "      <td>90</td>\n",
       "      <td>90</td>\n",
       "      <td>0.977778</td>\n",
       "      <td>1.085334e+06</td>\n",
       "      <td>1.110001e+06</td>\n",
       "      <td>219.354179</td>\n",
       "      <td>33.720434</td>\n",
       "    </tr>\n",
       "    <tr>\n",
       "      <th>5</th>\n",
       "      <td>6</td>\n",
       "      <td>7</td>\n",
       "      <td>15</td>\n",
       "      <td>0.857143</td>\n",
       "      <td>4.440004e+05</td>\n",
       "      <td>5.180005e+05</td>\n",
       "      <td>192.691202</td>\n",
       "      <td>107.403652</td>\n",
       "    </tr>\n",
       "    <tr>\n",
       "      <th>6</th>\n",
       "      <td>18</td>\n",
       "      <td>14</td>\n",
       "      <td>20</td>\n",
       "      <td>1.285714</td>\n",
       "      <td>9.990010e+05</td>\n",
       "      <td>7.770008e+05</td>\n",
       "      <td>286.919063</td>\n",
       "      <td>102.707829</td>\n",
       "    </tr>\n",
       "    <tr>\n",
       "      <th>7</th>\n",
       "      <td>40</td>\n",
       "      <td>41</td>\n",
       "      <td>40</td>\n",
       "      <td>0.975610</td>\n",
       "      <td>1.110001e+06</td>\n",
       "      <td>1.137751e+06</td>\n",
       "      <td>218.875970</td>\n",
       "      <td>49.209223</td>\n",
       "    </tr>\n",
       "    <tr>\n",
       "      <th>8</th>\n",
       "      <td>36</td>\n",
       "      <td>49</td>\n",
       "      <td>40</td>\n",
       "      <td>0.734694</td>\n",
       "      <td>9.990010e+05</td>\n",
       "      <td>1.359751e+06</td>\n",
       "      <td>165.514024</td>\n",
       "      <td>36.766051</td>\n",
       "    </tr>\n",
       "    <tr>\n",
       "      <th>9</th>\n",
       "      <td>54</td>\n",
       "      <td>79</td>\n",
       "      <td>60</td>\n",
       "      <td>0.683544</td>\n",
       "      <td>9.990010e+05</td>\n",
       "      <td>1.461501e+06</td>\n",
       "      <td>154.127518</td>\n",
       "      <td>27.714542</td>\n",
       "    </tr>\n",
       "    <tr>\n",
       "      <th>10</th>\n",
       "      <td>35</td>\n",
       "      <td>52</td>\n",
       "      <td>40</td>\n",
       "      <td>0.673077</td>\n",
       "      <td>9.712510e+05</td>\n",
       "      <td>1.443001e+06</td>\n",
       "      <td>151.794873</td>\n",
       "      <td>33.587209</td>\n",
       "    </tr>\n",
       "    <tr>\n",
       "      <th>11</th>\n",
       "      <td>52</td>\n",
       "      <td>76</td>\n",
       "      <td>70</td>\n",
       "      <td>0.684211</td>\n",
       "      <td>8.245723e+05</td>\n",
       "      <td>1.205144e+06</td>\n",
       "      <td>154.275956</td>\n",
       "      <td>28.256344</td>\n",
       "    </tr>\n",
       "    <tr>\n",
       "      <th>12</th>\n",
       "      <td>51</td>\n",
       "      <td>74</td>\n",
       "      <td>49</td>\n",
       "      <td>0.689189</td>\n",
       "      <td>1.155307e+06</td>\n",
       "      <td>1.676328e+06</td>\n",
       "      <td>155.385125</td>\n",
       "      <td>28.768616</td>\n",
       "    </tr>\n",
       "    <tr>\n",
       "      <th>13</th>\n",
       "      <td>47</td>\n",
       "      <td>66</td>\n",
       "      <td>50</td>\n",
       "      <td>0.712121</td>\n",
       "      <td>1.043401e+06</td>\n",
       "      <td>1.465201e+06</td>\n",
       "      <td>160.491558</td>\n",
       "      <td>31.114275</td>\n",
       "    </tr>\n",
       "    <tr>\n",
       "      <th>14</th>\n",
       "      <td>27</td>\n",
       "      <td>39</td>\n",
       "      <td>36</td>\n",
       "      <td>0.692308</td>\n",
       "      <td>8.325008e+05</td>\n",
       "      <td>1.202501e+06</td>\n",
       "      <td>156.079781</td>\n",
       "      <td>39.434473</td>\n",
       "    </tr>\n",
       "    <tr>\n",
       "      <th>15</th>\n",
       "      <td>36</td>\n",
       "      <td>44</td>\n",
       "      <td>40</td>\n",
       "      <td>0.818182</td>\n",
       "      <td>9.990010e+05</td>\n",
       "      <td>1.221001e+06</td>\n",
       "      <td>184.056340</td>\n",
       "      <td>41.834664</td>\n",
       "    </tr>\n",
       "    <tr>\n",
       "      <th>16</th>\n",
       "      <td>64</td>\n",
       "      <td>86</td>\n",
       "      <td>50</td>\n",
       "      <td>0.744186</td>\n",
       "      <td>1.420801e+06</td>\n",
       "      <td>1.909202e+06</td>\n",
       "      <td>167.624884</td>\n",
       "      <td>28.253537</td>\n",
       "    </tr>\n",
       "    <tr>\n",
       "      <th>17</th>\n",
       "      <td>68</td>\n",
       "      <td>90</td>\n",
       "      <td>50</td>\n",
       "      <td>0.755556</td>\n",
       "      <td>1.509602e+06</td>\n",
       "      <td>1.998002e+06</td>\n",
       "      <td>170.152315</td>\n",
       "      <td>27.945372</td>\n",
       "    </tr>\n",
       "    <tr>\n",
       "      <th>18</th>\n",
       "      <td>61</td>\n",
       "      <td>91</td>\n",
       "      <td>60</td>\n",
       "      <td>0.670330</td>\n",
       "      <td>1.128501e+06</td>\n",
       "      <td>1.683502e+06</td>\n",
       "      <td>151.182510</td>\n",
       "      <td>25.540172</td>\n",
       "    </tr>\n",
       "    <tr>\n",
       "      <th>19</th>\n",
       "      <td>30</td>\n",
       "      <td>41</td>\n",
       "      <td>30</td>\n",
       "      <td>0.731707</td>\n",
       "      <td>1.110001e+06</td>\n",
       "      <td>1.517002e+06</td>\n",
       "      <td>164.849733</td>\n",
       "      <td>40.001291</td>\n",
       "    </tr>\n",
       "  </tbody>\n",
       "</table>\n",
       "</div>"
      ],
      "text/plain": [
       "    Ns  Ni   A     Ns/Ni          RhoS          RhoI        Ages  Ages Errors\n",
       "0   31  41  40  0.756098  8.602509e+05  1.137751e+06  170.272777    40.938206\n",
       "1   19  22  20  0.863636  1.054501e+06  1.221001e+06  194.129222    61.156267\n",
       "2   56  63  60  0.888889  1.036001e+06  1.165501e+06  199.718474    37.303586\n",
       "3   67  71  80  0.943662  9.296259e+05  9.851260e+05  211.825011    36.791026\n",
       "4   88  90  90  0.977778  1.085334e+06  1.110001e+06  219.354179    33.720434\n",
       "5    6   7  15  0.857143  4.440004e+05  5.180005e+05  192.691202   107.403652\n",
       "6   18  14  20  1.285714  9.990010e+05  7.770008e+05  286.919063   102.707829\n",
       "7   40  41  40  0.975610  1.110001e+06  1.137751e+06  218.875970    49.209223\n",
       "8   36  49  40  0.734694  9.990010e+05  1.359751e+06  165.514024    36.766051\n",
       "9   54  79  60  0.683544  9.990010e+05  1.461501e+06  154.127518    27.714542\n",
       "10  35  52  40  0.673077  9.712510e+05  1.443001e+06  151.794873    33.587209\n",
       "11  52  76  70  0.684211  8.245723e+05  1.205144e+06  154.275956    28.256344\n",
       "12  51  74  49  0.689189  1.155307e+06  1.676328e+06  155.385125    28.768616\n",
       "13  47  66  50  0.712121  1.043401e+06  1.465201e+06  160.491558    31.114275\n",
       "14  27  39  36  0.692308  8.325008e+05  1.202501e+06  156.079781    39.434473\n",
       "15  36  44  40  0.818182  9.990010e+05  1.221001e+06  184.056340    41.834664\n",
       "16  64  86  50  0.744186  1.420801e+06  1.909202e+06  167.624884    28.253537\n",
       "17  68  90  50  0.755556  1.509602e+06  1.998002e+06  170.152315    27.945372\n",
       "18  61  91  60  0.670330  1.128501e+06  1.683502e+06  151.182510    25.540172\n",
       "19  30  41  30  0.731707  1.110001e+06  1.517002e+06  164.849733    40.001291"
      ]
     },
     "execution_count": 10,
     "metadata": {},
     "output_type": "execute_result"
    }
   ],
   "source": [
    "Miller1995"
   ]
  },
  {
   "cell_type": "code",
   "execution_count": 11,
   "metadata": {},
   "outputs": [
    {
     "data": {
      "text/plain": [
       "{'Central': 175.5672998835018,\n",
       " 'se': 14332.027006873097,\n",
       " 'sigma': 5.1978616298287776e-05}"
      ]
     },
     "execution_count": 11,
     "metadata": {},
     "output_type": "execute_result"
    }
   ],
   "source": [
    "FT.central_age(Miller1995.Ns,\n",
    "               Miller1995.Ni,\n",
    "               Miller1995.zeta,\n",
    "               Miller1995.zeta_error,\n",
    "               Miller1995.rhod,\n",
    "               Miller1995.nd)"
   ]
  },
  {
   "cell_type": "code",
   "execution_count": 12,
   "metadata": {},
   "outputs": [
    {
     "data": {
      "text/plain": [
       "{'Central': 175.5672998835018,\n",
       " 'se': 14332.027006873097,\n",
       " 'sigma': 5.1978616298287776e-05}"
      ]
     },
     "execution_count": 12,
     "metadata": {},
     "output_type": "execute_result"
    }
   ],
   "source": [
    "Miller1995.calculate_central_age()"
   ]
  },
  {
   "cell_type": "code",
   "execution_count": 13,
   "metadata": {},
   "outputs": [
    {
     "data": {
      "text/plain": [
       "{'Pooled Age': 175.56729987574315, 'se': 9.878490119317705}"
      ]
     },
     "execution_count": 13,
     "metadata": {},
     "output_type": "execute_result"
    }
   ],
   "source": [
    "Miller1995.calculate_pooled_age()"
   ]
  },
  {
   "cell_type": "code",
   "execution_count": 14,
   "metadata": {},
   "outputs": [
    {
     "data": {
      "text/plain": [
       "{'Ages': [170.2727772640975,\n",
       "  194.12922187599696,\n",
       "  199.71847392127856,\n",
       "  211.82501093801739,\n",
       "  219.35417905655055,\n",
       "  192.69120201058783,\n",
       "  286.9190631239537,\n",
       "  218.87597033417916,\n",
       "  165.51402406094212,\n",
       "  154.12751782896967,\n",
       "  151.794872702224,\n",
       "  154.27595627096636,\n",
       "  155.3851245378071,\n",
       "  160.49155827680758,\n",
       "  156.07978109227116,\n",
       "  184.05633985285064,\n",
       "  167.62488355180588,\n",
       "  170.15231471139003,\n",
       "  151.18251036284565,\n",
       "  164.84973261253256],\n",
       " 'Ages Errors': [40.93820562355294,\n",
       "  61.15626671371068,\n",
       "  37.30358567232624,\n",
       "  36.7910263894117,\n",
       "  33.72043366931745,\n",
       "  107.40365186503979,\n",
       "  102.7078287392375,\n",
       "  49.20922289475659,\n",
       "  36.76605120432735,\n",
       "  27.714541673022094,\n",
       "  33.58720930380308,\n",
       "  28.25634366989746,\n",
       "  28.768615902243397,\n",
       "  31.114274880491372,\n",
       "  39.434472886917085,\n",
       "  41.83466446876438,\n",
       "  28.25353734688477,\n",
       "  27.94537164366046,\n",
       "  25.54017192729246,\n",
       "  40.001290595963304]}"
      ]
     },
     "execution_count": 14,
     "metadata": {},
     "output_type": "execute_result"
    }
   ],
   "source": [
    "Miller1995.calculate_ages()"
   ]
  },
  {
   "cell_type": "markdown",
   "metadata": {},
   "source": [
    "# The Sample Class"
   ]
  },
  {
   "cell_type": "markdown",
   "metadata": {},
   "source": [
    "# Specify a Thermal history"
   ]
  },
  {
   "cell_type": "code",
   "execution_count": 15,
   "metadata": {},
   "outputs": [],
   "source": [
    "from pint import UnitRegistry\n",
    "import numpy as np\n",
    "\n",
    "u = UnitRegistry()"
   ]
  },
  {
   "cell_type": "code",
   "execution_count": 16,
   "metadata": {},
   "outputs": [],
   "source": [
    "thermal_history = FT.ThermalHistory(name=\"My Thermal History\",\n",
    "                  time=u.Quantity([0., 43., 44., 100.],u.megayears),\n",
    "                  temperature=u.Quantity([10., 10., 130., 130.], u.degC))"
   ]
  },
  {
   "cell_type": "code",
   "execution_count": 17,
   "metadata": {},
   "outputs": [],
   "source": [
    "import matplotlib.pyplot as plt"
   ]
  },
  {
   "cell_type": "code",
   "execution_count": 18,
   "metadata": {},
   "outputs": [
    {
     "data": {
      "text/plain": [
       "<matplotlib.legend.Legend at 0x7fba72a11190>"
      ]
     },
     "execution_count": 18,
     "metadata": {},
     "output_type": "execute_result"
    },
    {
     "data": {
      "image/png": "[encoded data removed]",
      "text/plain": [
       "<Figure size 1080x360 with 1 Axes>"
      ]
     },
     "metadata": {
      "needs_background": "light"
     },
     "output_type": "display_data"
    }
   ],
   "source": [
    "plt.figure(figsize=(15, 5))\n",
    "plt.plot(thermal_history.input_time.magnitude, thermal_history.input_temperature.magnitude, label=thermal_history.name, marker=\"o\")\n",
    "plt.xlim(100., 0.)\n",
    "plt.ylim(150. + 273.15, 0.+273.15)\n",
    "plt.ylabel(\"Temperature in degC\")\n",
    "plt.xlabel(\"Time in (Ma)\")\n",
    "plt.legend()"
   ]
  },
  {
   "cell_type": "markdown",
   "metadata": {},
   "source": [
    "## Specify an Annealing Model"
   ]
  },
  {
   "cell_type": "code",
   "execution_count": 19,
   "metadata": {},
   "outputs": [],
   "source": [
    "model1 = FT.Ketcham1999(thermal_history)"
   ]
  },
  {
   "cell_type": "code",
   "execution_count": 20,
   "metadata": {},
   "outputs": [],
   "source": [
    "%matplotlib tk\n",
    "#%matplotlib notebook # Would be ideal as it would keep everything in the notebook..."
   ]
  },
  {
   "cell_type": "code",
   "execution_count": 21,
   "metadata": {},
   "outputs": [
    {
     "data": {
      "text/plain": [
       "<pyFTracks.viewer.Viewer at 0x7fba7091c5b0>"
      ]
     },
     "execution_count": 21,
     "metadata": {},
     "output_type": "execute_result"
    }
   ],
   "source": [
    "FT.Viewer(model1)"
   ]
  },
  {
   "cell_type": "code",
   "execution_count": 22,
   "metadata": {},
   "outputs": [],
   "source": [
    "model2 = FT.Ketcham2007(thermal_history)"
   ]
  },
  {
   "cell_type": "code",
   "execution_count": 23,
   "metadata": {},
   "outputs": [
    {
     "data": {
      "text/plain": [
       "<pyFTracks.viewer.Viewer at 0x7fba6fa39490>"
      ]
     },
     "execution_count": 23,
     "metadata": {},
     "output_type": "execute_result"
    }
   ],
   "source": [
    "FT.Viewer(model2)"
   ]
  },
  {
   "cell_type": "code",
   "execution_count": 24,
   "metadata": {},
   "outputs": [],
   "source": [
    "from pyFTracks.thermal_history import WOLF1"
   ]
  },
  {
   "cell_type": "code",
   "execution_count": 25,
   "metadata": {},
   "outputs": [],
   "source": [
    "model3 = FT.Ketcham1999(WOLF1)"
   ]
  },
  {
   "cell_type": "code",
   "execution_count": 26,
   "metadata": {},
   "outputs": [
    {
     "data": {
      "text/plain": [
       "<pyFTracks.viewer.Viewer at 0x7fba6fa1de50>"
      ]
     },
     "execution_count": 26,
     "metadata": {},
     "output_type": "execute_result"
    }
   ],
   "source": [
    "FT.Viewer(model3)"
   ]
  }
 ],
 "metadata": {
  "kernelspec": {
   "display_name": "Python 3",
   "language": "python",
   "name": "python3"
  },
  "language_info": {
   "codemirror_mode": {
    "name": "ipython",
    "version": 3
   },
   "file_extension": ".py",
   "mimetype": "text/x-python",
   "name": "python",
   "nbconvert_exporter": "python",
   "pygments_lexer": "ipython3",
   "version": "3.8.1"
  }
 },
 "nbformat": 4,
 "nbformat_minor": 2
}
